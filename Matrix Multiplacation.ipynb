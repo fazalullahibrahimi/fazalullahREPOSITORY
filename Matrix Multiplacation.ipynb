{
 "cells": [
  {
   "cell_type": "code",
   "execution_count": 8,
   "metadata": {},
   "outputs": [
    {
     "name": "stdout",
     "output_type": "stream",
     "text": [
      "[[ 0.15380449  0.21196922 -0.7465356 ]\n",
      " [ 0.28559495 -0.43733672  0.01964346]\n",
      " [ 1.09356677  1.98556675 -1.40240458]\n",
      " [-0.9903295  -0.40716312 -1.79922233]\n",
      " [ 1.05956487  0.7492558   1.37451086]]\n",
      "[[1.30910939 0.9884739 ]\n",
      " [0.64631174 3.06835666]\n",
      " [0.86576224 1.52278511]]\n",
      "M1  x  M2 =  \n",
      "[[-0.30797724 -0.3343844 ]\n",
      " [ 0.10822574 -1.02968912]\n",
      " [ 1.5007447   5.03782839]\n",
      " [-3.11730269 -4.96806548]\n",
      " [ 3.06133875  5.43942093]]\n"
     ]
    }
   ],
   "source": [
    "import numpy as np\n",
    "import matplotlib.pyplot as plt\n",
    "M1=np.random.randn(5,3)\n",
    "M2=np.random.randn(3,2)\n",
    "C = M1 @ M2\n",
    "print(\"This is M1 Matrix\")\n",
    "print(M1)\n",
    "print(\"This is M2 Matrix\")\n",
    "print(M2)\n",
    "print(\"M1  x  M2 =  \")\n",
    "print(C)\n"
   ]
  }
 ],
 "metadata": {
  "kernelspec": {
   "display_name": "Python 3",
   "language": "python",
   "name": "python3"
  },
  "language_info": {
   "codemirror_mode": {
    "name": "ipython",
    "version": 3
   },
   "file_extension": ".py",
   "mimetype": "text/x-python",
   "name": "python",
   "nbconvert_exporter": "python",
   "pygments_lexer": "ipython3",
   "version": "3.11.1"
  },
  "orig_nbformat": 4,
  "vscode": {
   "interpreter": {
    "hash": "7ba66ad69696edbb89d16fc72f90dccc58d9b41a2eca62be64075786ad6b5edb"
   }
  }
 },
 "nbformat": 4,
 "nbformat_minor": 2
}
