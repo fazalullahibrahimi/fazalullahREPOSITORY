{
 "cells": [
  {
   "cell_type": "code",
   "execution_count": 5,
   "metadata": {},
   "outputs": [
    {
     "name": "stdout",
     "output_type": "stream",
     "text": [
      "[[1 0 0 0 0 0]\n",
      " [0 2 0 0 0 0]\n",
      " [0 0 3 0 0 0]\n",
      " [0 0 0 4 0 0]\n",
      " [0 0 0 0 5 0]\n",
      " [0 0 0 0 0 6]]\n",
      "This one matrix\n",
      "[[0.54608395 0.63000456 0.11819394 0.52095818]\n",
      " [0.64628936 0.99392889 0.04497874 0.28240913]\n",
      " [0.7910304  0.69054931 0.14807728 0.9393756 ]]\n"
     ]
    }
   ],
   "source": [
    "import numpy as np\n",
    "import matplotlib.pyplot as plt\n",
    "D=np.diag([1,2,3,4,5,6])\n",
    "R=np.random.rand(3,4)\n",
    "d=np.diag(R)\n",
    "print(D)\n",
    "print(\"This one matrix\")\n",
    "print(R)\n"
   ]
  }
 ],
 "metadata": {
  "kernelspec": {
   "display_name": "Python 3",
   "language": "python",
   "name": "python3"
  },
  "language_info": {
   "name": "python",
   "version": "3.11.1"
  },
  "orig_nbformat": 4,
  "vscode": {
   "interpreter": {
    "hash": "7ba66ad69696edbb89d16fc72f90dccc58d9b41a2eca62be64075786ad6b5edb"
   }
  }
 },
 "nbformat": 4,
 "nbformat_minor": 2
}
