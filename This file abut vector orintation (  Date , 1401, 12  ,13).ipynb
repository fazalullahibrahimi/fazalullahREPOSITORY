{
 "cells": [
  {
   "cell_type": "code",
   "execution_count": 1,
   "metadata": {},
   "outputs": [
    {
     "name": "stdout",
     "output_type": "stream",
     "text": [
      "this is first vector\n",
      "[1, 2, 3, 4]\n",
      "this is second vector\n",
      "[2 3 4]\n",
      "this is third vector\n",
      "[[1]\n",
      " [2]\n",
      " [3]\n",
      " [4]]\n",
      "this is fourth vector \n",
      "[[5 6 7 8 9]]\n"
     ]
    }
   ],
   "source": [
    "import numpy as np\n",
    "import matplotlib.pyplot as plt\n",
    "v1=[1,2,3,4]\n",
    "v2=np.array([2,3,4])\n",
    "v3=np.array([[1],[2],[3],[4]])\n",
    "v4=np.array([[5,6,7,8,9]])\n",
    "print(\"this is first vector\")\n",
    "print(v1)\n",
    "print(\"this is second vector\")\n",
    "print(v2)\n",
    "print(\"this is third vector\")\n",
    "print(v3)\n",
    "print(\"this is fourth vector \")\n",
    "print(v4)"
   ]
  }
 ],
 "metadata": {
  "kernelspec": {
   "display_name": "Python 3",
   "language": "python",
   "name": "python3"
  },
  "language_info": {
   "codemirror_mode": {
    "name": "ipython",
    "version": 3
   },
   "file_extension": ".py",
   "mimetype": "text/x-python",
   "name": "python",
   "nbconvert_exporter": "python",
   "pygments_lexer": "ipython3",
   "version": "3.11.1"
  },
  "orig_nbformat": 4,
  "vscode": {
   "interpreter": {
    "hash": "7ba66ad69696edbb89d16fc72f90dccc58d9b41a2eca62be64075786ad6b5edb"
   }
  }
 },
 "nbformat": 4,
 "nbformat_minor": 2
}
