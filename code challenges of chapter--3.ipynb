{
 "cells": [
  {
   "cell_type": "code",
   "execution_count": 3,
   "metadata": {},
   "outputs": [
    {
     "name": "stdout",
     "output_type": "stream",
     "text": [
      "[-1 -1 -1 -1 -1]\n"
     ]
    }
   ],
   "source": [
    "import numpy as np\n",
    "v1=np.array([1,2,3,4,5])\n",
    "v2=np.array([2,3,4,5,6])\n",
    "v3=np.array([3,4,5,6,7])\n",
    "w = [-1,3,-2]\n",
    "result = v1*w[0]+v2*w[1]+v3*w[2]\n",
    "print(result)"
   ]
  },
  {
   "cell_type": "code",
   "execution_count": 5,
   "metadata": {},
   "outputs": [
    {
     "name": "stdout",
     "output_type": "stream",
     "text": [
      "3.4\n"
     ]
    }
   ],
   "source": [
    "import numpy as np\n",
    "v=np.array([7,4,-5,8,3])\n",
    "o=np.ones(len(v))\n",
    "ave=np.dot(v,o) /len(v)\n",
    "print(ave)\n"
   ]
  },
  {
   "cell_type": "code",
   "execution_count": 7,
   "metadata": {},
   "outputs": [
    {
     "name": "stdout",
     "output_type": "stream",
     "text": [
      "1.5596210473613394\n"
     ]
    }
   ],
   "source": [
    "import numpy as np\n",
    "v=np.array([7,4,-5,8,3])\n",
    "w=np.random.rand(len(v))\n",
    "wAve=np.dot(v,w /sum(w))\n",
    "print(wAve)"
   ]
  }
 ],
 "metadata": {
  "kernelspec": {
   "display_name": "Python 3",
   "language": "python",
   "name": "python3"
  },
  "language_info": {
   "codemirror_mode": {
    "name": "ipython",
    "version": 3
   },
   "file_extension": ".py",
   "mimetype": "text/x-python",
   "name": "python",
   "nbconvert_exporter": "python",
   "pygments_lexer": "ipython3",
   "version": "3.11.1"
  },
  "orig_nbformat": 4,
  "vscode": {
   "interpreter": {
    "hash": "7ba66ad69696edbb89d16fc72f90dccc58d9b41a2eca62be64075786ad6b5edb"
   }
  }
 },
 "nbformat": 4,
 "nbformat_minor": 2
}
